{
  "metadata": {
    "kernelspec": {
      "language": "python",
      "display_name": "Python 3",
      "name": "python3"
    },
    "language_info": {
      "name": "python",
      "version": "3.10.10",
      "mimetype": "text/x-python",
      "codemirror_mode": {
        "name": "ipython",
        "version": 3
      },
      "pygments_lexer": "ipython3",
      "nbconvert_exporter": "python",
      "file_extension": ".py"
    },
    "kaggle": {
      "accelerator": "gpu",
      "dataSources": [
        {
          "sourceId": 5684774,
          "sourceType": "datasetVersion",
          "datasetId": 3268269
        }
      ],
      "dockerImageVersionId": 30498,
      "isInternetEnabled": true,
      "language": "python",
      "sourceType": "notebook",
      "isGpuEnabled": true
    },
    "colab": {
      "name": "Herbal_plants_classification",
      "provenance": [],
      "include_colab_link": true
    }
  },
  "nbformat_minor": 0,
  "nbformat": 4,
  "cells": [
    {
      "cell_type": "markdown",
      "metadata": {
        "id": "view-in-github",
        "colab_type": "text"
      },
      "source": [
        "<a href=\"https://colab.research.google.com/github/gokulan-2005/Herbs_prediction/blob/main/Herbal_plants_classification.ipynb\" target=\"_parent\"><img src=\"https://colab.research.google.com/assets/colab-badge.svg\" alt=\"Open In Colab\"/></a>"
      ]
    },
    {
      "source": [
        "import os\n",
        "import sys\n",
        "from tempfile import NamedTemporaryFile\n",
        "from urllib.request import urlopen\n",
        "from urllib.parse import unquote, urlparse\n",
        "from urllib.error import HTTPError\n",
        "from zipfile import ZipFile\n",
        "import tarfile\n",
        "import shutil\n",
        "\n",
        "CHUNK_SIZE = 40960\n",
        "DATA_SOURCE_MAPPING = 'herbs-plant-dataset:https%3A%2F%2Fstorage.googleapis.com%2Fkaggle-data-sets%2F3268269%2F5684774%2Fbundle%2Farchive.zip%3FX-Goog-Algorithm%3DGOOG4-RSA-SHA256%26X-Goog-Credential%3Dgcp-kaggle-com%2540kaggle-161607.iam.gserviceaccount.com%252F20240526%252Fauto%252Fstorage%252Fgoog4_request%26X-Goog-Date%3D20240526T143644Z%26X-Goog-Expires%3D259200%26X-Goog-SignedHeaders%3Dhost%26X-Goog-Signature%3D385f28cc69b82b3cc295f31fda2979c304f4413fdd2cabb23b37d6a97700950697b236c8d0958643b5a8b774d681e7961c355f3b4af3e32d954b490cfc27ba7b48fd4f6da51f953218d05f77dbc4a5ae463a93927d4f71b73ca75c00ac871c238c49e86c8c9a7ae4f16631fb5d19f5bb0a23585f733cb25fe2d858859f4ca56c23b6fb989d6b54f5b9405eb38f014158f9f6179d2ef1ef54acf579993d1a9b3f73e345d98c208db563ae8c15c1d8019bdfe3cf6384df8b623134a6b05ebbfb9660b8eceb32fa402b5b66f3a024b6a9d7617d40966ea1400821e919fcf152cb490ec52d2ea2f87c6c255a5bc331b70233e764d0479ebc3d6da28e254129fe9126'\n",
        "\n",
        "KAGGLE_INPUT_PATH='/kaggle/input'\n",
        "KAGGLE_WORKING_PATH='/kaggle/working'\n",
        "KAGGLE_SYMLINK='kaggle'\n",
        "\n",
        "!umount /kaggle/input/ 2> /dev/null\n",
        "shutil.rmtree('/kaggle/input', ignore_errors=True)\n",
        "os.makedirs(KAGGLE_INPUT_PATH, 0o777, exist_ok=True)\n",
        "os.makedirs(KAGGLE_WORKING_PATH, 0o777, exist_ok=True)\n",
        "\n",
        "try:\n",
        "  os.symlink(KAGGLE_INPUT_PATH, os.path.join(\"..\", 'input'), target_is_directory=True)\n",
        "except FileExistsError:\n",
        "  pass\n",
        "try:\n",
        "  os.symlink(KAGGLE_WORKING_PATH, os.path.join(\"..\", 'working'), target_is_directory=True)\n",
        "except FileExistsError:\n",
        "  pass\n",
        "\n",
        "for data_source_mapping in DATA_SOURCE_MAPPING.split(','):\n",
        "    directory, download_url_encoded = data_source_mapping.split(':')\n",
        "    download_url = unquote(download_url_encoded)\n",
        "    filename = urlparse(download_url).path\n",
        "    destination_path = os.path.join(KAGGLE_INPUT_PATH, directory)\n",
        "    try:\n",
        "        with urlopen(download_url) as fileres, NamedTemporaryFile() as tfile:\n",
        "            total_length = fileres.headers['content-length']\n",
        "            print(f'Downloading {directory}, {total_length} bytes compressed')\n",
        "            dl = 0\n",
        "            data = fileres.read(CHUNK_SIZE)\n",
        "            while len(data) > 0:\n",
        "                dl += len(data)\n",
        "                tfile.write(data)\n",
        "                done = int(50 * dl / int(total_length))\n",
        "                sys.stdout.write(f\"\\r[{'=' * done}{' ' * (50-done)}] {dl} bytes downloaded\")\n",
        "                sys.stdout.flush()\n",
        "                data = fileres.read(CHUNK_SIZE)\n",
        "            if filename.endswith('.zip'):\n",
        "              with ZipFile(tfile) as zfile:\n",
        "                zfile.extractall(destination_path)\n",
        "            else:\n",
        "              with tarfile.open(tfile.name) as tarfile:\n",
        "                tarfile.extractall(destination_path)\n",
        "            print(f'\\nDownloaded and uncompressed: {directory}')\n",
        "    except HTTPError as e:\n",
        "        print(f'Failed to load (likely expired) {download_url} to path {destination_path}')\n",
        "        continue\n",
        "    except OSError as e:\n",
        "        print(f'Failed to load {download_url} to path {destination_path}')\n",
        "        continue\n",
        "\n",
        "print('Data source import complete.')\n"
      ],
      "metadata": {
        "id": "K9peoWiuVTGK"
      },
      "cell_type": "code",
      "outputs": [],
      "execution_count": null
    },
    {
      "cell_type": "code",
      "source": [
        "import numpy as np\n",
        "import pandas as pd\n",
        "\n",
        "import matplotlib.pyplot as plt\n",
        "%matplotlib inline\n",
        "import seaborn as sns\n",
        "\n",
        "import os\n",
        "import glob\n",
        "import shutil\n",
        "\n",
        "import cv2\n",
        "import random\n",
        "import pickle\n"
      ],
      "metadata": {
        "_uuid": "8f2839f25d086af736a60e9eeb907d3b93b6e0e5",
        "_cell_guid": "b1076dfc-b9ad-4769-8c92-a6c4dae69d19",
        "execution": {
          "iopub.status.busy": "2023-12-30T16:24:04.236386Z",
          "iopub.execute_input": "2023-12-30T16:24:04.236757Z",
          "iopub.status.idle": "2023-12-30T16:24:04.394785Z",
          "shell.execute_reply.started": "2023-12-30T16:24:04.23672Z",
          "shell.execute_reply": "2023-12-30T16:24:04.394014Z"
        },
        "trusted": true,
        "id": "K6k7uhfpVTGP"
      },
      "execution_count": null,
      "outputs": []
    },
    {
      "cell_type": "code",
      "source": [
        "import numpy as np\n",
        "import tensorflow as tf\n",
        "from tensorflow import keras\n",
        "from keras.models import Sequential,Model\n",
        "from keras.layers import  Conv2D, MaxPooling2D, Flatten, Dense, Dropout\n",
        "from tensorflow.keras.optimizers import Adam, SGD\n",
        "from tensorflow.keras.metrics import sparse_categorical_crossentropy\n",
        "from tensorflow.keras.preprocessing.image import ImageDataGenerator"
      ],
      "metadata": {
        "execution": {
          "iopub.status.busy": "2023-12-30T16:24:04.396263Z",
          "iopub.execute_input": "2023-12-30T16:24:04.396551Z",
          "iopub.status.idle": "2023-12-30T16:24:04.402479Z",
          "shell.execute_reply.started": "2023-12-30T16:24:04.396514Z",
          "shell.execute_reply": "2023-12-30T16:24:04.401629Z"
        },
        "trusted": true,
        "id": "Loq94-d8VTGR"
      },
      "execution_count": null,
      "outputs": []
    },
    {
      "cell_type": "code",
      "source": [
        "DIRECTORY='/kaggle/input/herbs-plant-dataset/herbs classification'\n",
        "print(DIRECTORY)\n",
        "#print(os.listdir())\n",
        "os.chdir(\"/kaggle/input/herbs-plant-dataset/herbs classification\")\n",
        "print(os.listdir())"
      ],
      "metadata": {
        "execution": {
          "iopub.status.busy": "2023-12-30T16:24:04.403593Z",
          "iopub.execute_input": "2023-12-30T16:24:04.403913Z",
          "iopub.status.idle": "2023-12-30T16:24:04.424371Z",
          "shell.execute_reply.started": "2023-12-30T16:24:04.403882Z",
          "shell.execute_reply": "2023-12-30T16:24:04.423538Z"
        },
        "trusted": true,
        "id": "nkpHemm-VTGS"
      },
      "execution_count": null,
      "outputs": []
    },
    {
      "cell_type": "code",
      "source": [
        "#train_path=DIRECTORY+'/train'\n",
        "train_path='train'\n",
        "valid_path='valid'\n",
        "test_path='test'\n",
        "print(test_path)\n",
        "os.listdir(test_path)"
      ],
      "metadata": {
        "execution": {
          "iopub.status.busy": "2023-12-30T16:24:04.42684Z",
          "iopub.execute_input": "2023-12-30T16:24:04.427092Z",
          "iopub.status.idle": "2023-12-30T16:24:04.437806Z",
          "shell.execute_reply.started": "2023-12-30T16:24:04.42707Z",
          "shell.execute_reply": "2023-12-30T16:24:04.436821Z"
        },
        "trusted": true,
        "id": "_TzUlZw_VTGS"
      },
      "execution_count": null,
      "outputs": []
    },
    {
      "cell_type": "code",
      "source": [
        "train_batches=ImageDataGenerator(preprocessing_function=tf.keras.applications.vgg16.preprocess_input)\\\n",
        ".flow_from_directory(directory=train_path,target_size=(224,224),  batch_size=10)\n",
        "\n",
        "#valid_batches=ImageDataGenerator(preprocessing_function=tf.keras.applications.vgg16.preprocess_input)\\\n",
        "#.flow_from_directory(directory=valid_path,target_size=(224,224),  batch_size=10)\n",
        "\n",
        "test_batches=ImageDataGenerator(preprocessing_function=tf.keras.applications.vgg16.preprocess_input)\\\n",
        ".flow_from_directory(directory=test_path,target_size=(224,224),  batch_size=10,shuffle=False)"
      ],
      "metadata": {
        "execution": {
          "iopub.status.busy": "2023-12-30T16:24:04.439016Z",
          "iopub.execute_input": "2023-12-30T16:24:04.439299Z",
          "iopub.status.idle": "2023-12-30T16:24:04.50664Z",
          "shell.execute_reply.started": "2023-12-30T16:24:04.439277Z",
          "shell.execute_reply": "2023-12-30T16:24:04.505396Z"
        },
        "trusted": true,
        "id": "ufHRxLmnVTGT"
      },
      "execution_count": null,
      "outputs": []
    },
    {
      "cell_type": "code",
      "source": [
        "vgg16_model = tf.keras.applications.vgg16.VGG16()\n",
        "#model.summary()\n",
        "\n",
        "model = Sequential()\n",
        "for layer in vgg16_model.layers[:-2]:\n",
        "    print(layer)\n",
        "    model.add(layer)\n",
        "\n",
        "for layer in model.layers[:-5]:\n",
        "    #print(layer)\n",
        "    layer.trainable = False\n",
        "\n",
        "model.add(Dense(units=12, activation='softmax',  name='predictions'))"
      ],
      "metadata": {
        "execution": {
          "iopub.status.busy": "2023-12-30T16:24:04.507927Z",
          "iopub.execute_input": "2023-12-30T16:24:04.508374Z",
          "iopub.status.idle": "2023-12-30T16:24:27.71894Z",
          "shell.execute_reply.started": "2023-12-30T16:24:04.508341Z",
          "shell.execute_reply": "2023-12-30T16:24:27.71801Z"
        },
        "trusted": true,
        "id": "w7qDDY7YVTGT"
      },
      "execution_count": null,
      "outputs": []
    },
    {
      "cell_type": "code",
      "source": [
        "model.summary()"
      ],
      "metadata": {
        "execution": {
          "iopub.status.busy": "2023-12-30T16:24:27.720309Z",
          "iopub.execute_input": "2023-12-30T16:24:27.720715Z",
          "iopub.status.idle": "2023-12-30T16:24:27.775747Z",
          "shell.execute_reply.started": "2023-12-30T16:24:27.720686Z",
          "shell.execute_reply": "2023-12-30T16:24:27.774828Z"
        },
        "trusted": true,
        "id": "_0eUooeGVTGU"
      },
      "execution_count": null,
      "outputs": []
    },
    {
      "cell_type": "code",
      "source": [
        "from tensorflow.keras.optimizers import Adam\n",
        "model.compile(optimizer=SGD(learning_rate=0.0001), loss='categorical_crossentropy', metrics=['accuracy'])"
      ],
      "metadata": {
        "execution": {
          "iopub.status.busy": "2023-12-30T16:24:27.776938Z",
          "iopub.execute_input": "2023-12-30T16:24:27.77726Z",
          "iopub.status.idle": "2023-12-30T16:24:27.793186Z",
          "shell.execute_reply.started": "2023-12-30T16:24:27.77723Z",
          "shell.execute_reply": "2023-12-30T16:24:27.792234Z"
        },
        "trusted": true,
        "id": "hIPYzD38VTGU"
      },
      "execution_count": null,
      "outputs": []
    },
    {
      "cell_type": "code",
      "source": [
        "hist=model.fit(x=train_batches, validation_data=test_batches, epochs=100,verbose=2)"
      ],
      "metadata": {
        "execution": {
          "iopub.status.busy": "2023-12-30T16:24:27.794532Z",
          "iopub.execute_input": "2023-12-30T16:24:27.794807Z",
          "iopub.status.idle": "2023-12-30T17:14:34.381071Z",
          "shell.execute_reply.started": "2023-12-30T16:24:27.794783Z",
          "shell.execute_reply": "2023-12-30T17:14:34.38022Z"
        },
        "trusted": true,
        "id": "XSgE10BBVTGV"
      },
      "execution_count": null,
      "outputs": []
    },
    {
      "cell_type": "code",
      "source": [
        "print(hist.history['loss'])\n"
      ],
      "metadata": {
        "execution": {
          "iopub.status.busy": "2023-12-30T17:14:34.384538Z",
          "iopub.execute_input": "2023-12-30T17:14:34.384858Z",
          "iopub.status.idle": "2023-12-30T17:14:34.390031Z",
          "shell.execute_reply.started": "2023-12-30T17:14:34.384831Z",
          "shell.execute_reply": "2023-12-30T17:14:34.389067Z"
        },
        "trusted": true,
        "id": "fJn2uMGbVTGW"
      },
      "execution_count": null,
      "outputs": []
    },
    {
      "cell_type": "code",
      "source": [
        "#plot the training and validation accuracy at each epoch\n",
        "acc = hist.history['accuracy']\n",
        "val_acc = hist.history['val_accuracy']\n",
        "epochs = range(1, len(acc) + 1)\n",
        "plt.plot(epochs, acc, 'y', label='Training acc')\n",
        "plt.plot(epochs, val_acc, 'r', label='Validation acc')\n",
        "plt.title('Training and validation accuracy')\n",
        "plt.xlabel('Epochs')\n",
        "plt.ylabel('Accuracy')\n",
        "plt.legend()\n",
        "plt.show()"
      ],
      "metadata": {
        "execution": {
          "iopub.status.busy": "2023-12-30T17:14:34.391383Z",
          "iopub.execute_input": "2023-12-30T17:14:34.391718Z",
          "iopub.status.idle": "2023-12-30T17:14:34.707069Z",
          "shell.execute_reply.started": "2023-12-30T17:14:34.391685Z",
          "shell.execute_reply": "2023-12-30T17:14:34.706182Z"
        },
        "trusted": true,
        "id": "G4hd9xVdVTGW"
      },
      "execution_count": null,
      "outputs": []
    },
    {
      "cell_type": "code",
      "source": [
        "#plot the training and validation  loss at each epoch\n",
        "loss = hist.history['loss']\n",
        "val_loss = hist.history['val_loss']\n",
        "plt.plot(epochs, loss, 'y', label='Training loss')\n",
        "plt.plot(epochs, val_loss, 'r', label='Validation loss')\n",
        "plt.title('Training and validation loss')\n",
        "plt.xlabel('Epochs')\n",
        "plt.ylabel('Loss')\n",
        "plt.legend()\n",
        "plt.show()"
      ],
      "metadata": {
        "execution": {
          "iopub.status.busy": "2023-12-30T17:14:34.708254Z",
          "iopub.execute_input": "2023-12-30T17:14:34.708537Z",
          "iopub.status.idle": "2023-12-30T17:14:35.000224Z",
          "shell.execute_reply.started": "2023-12-30T17:14:34.708511Z",
          "shell.execute_reply": "2023-12-30T17:14:34.999218Z"
        },
        "trusted": true,
        "id": "24keIrYuVTGX"
      },
      "execution_count": null,
      "outputs": []
    },
    {
      "cell_type": "code",
      "source": [
        "test_labels=test_batches.classes\n",
        "test_labels"
      ],
      "metadata": {
        "execution": {
          "iopub.status.busy": "2023-12-30T17:14:35.001489Z",
          "iopub.execute_input": "2023-12-30T17:14:35.00182Z",
          "iopub.status.idle": "2023-12-30T17:14:35.009072Z",
          "shell.execute_reply.started": "2023-12-30T17:14:35.001794Z",
          "shell.execute_reply": "2023-12-30T17:14:35.008105Z"
        },
        "trusted": true,
        "id": "X7_A7-EcVTGX"
      },
      "execution_count": null,
      "outputs": []
    },
    {
      "cell_type": "code",
      "source": [
        "predict=model.predict(x=test_batches, verbose=0)\n",
        "#print(predict[0])\n",
        "print(predict.argmax(axis=1))"
      ],
      "metadata": {
        "execution": {
          "iopub.status.busy": "2023-12-30T17:14:35.010421Z",
          "iopub.execute_input": "2023-12-30T17:14:35.01077Z",
          "iopub.status.idle": "2023-12-30T17:14:47.838104Z",
          "shell.execute_reply.started": "2023-12-30T17:14:35.010736Z",
          "shell.execute_reply": "2023-12-30T17:14:47.83712Z"
        },
        "trusted": true,
        "id": "q66Q2yZzVTGY"
      },
      "execution_count": null,
      "outputs": []
    },
    {
      "cell_type": "code",
      "source": [
        "# Making the Confusion Matrix\n",
        "from sklearn.metrics import confusion_matrix\n",
        "cm = confusion_matrix(y_true=test_labels, y_pred=predict.argmax(axis=1))\n",
        "\n",
        "print(cm)\n",
        "\n",
        "sns.heatmap(cm, annot=True)"
      ],
      "metadata": {
        "execution": {
          "iopub.status.busy": "2023-12-30T17:14:47.839594Z",
          "iopub.execute_input": "2023-12-30T17:14:47.8403Z",
          "iopub.status.idle": "2023-12-30T17:14:48.823388Z",
          "shell.execute_reply.started": "2023-12-30T17:14:47.840263Z",
          "shell.execute_reply": "2023-12-30T17:14:48.822457Z"
        },
        "trusted": true,
        "id": "lkD_vZ3-VTGY"
      },
      "execution_count": null,
      "outputs": []
    },
    {
      "cell_type": "code",
      "source": [
        "# Showing the Classification report\n",
        "from sklearn.metrics import classification_report\n",
        "cr=classification_report(test_labels, predict.argmax(axis=1))\n",
        "print(cr)"
      ],
      "metadata": {
        "execution": {
          "iopub.status.busy": "2023-12-30T17:14:48.824759Z",
          "iopub.execute_input": "2023-12-30T17:14:48.825133Z",
          "iopub.status.idle": "2023-12-30T17:14:48.839738Z",
          "shell.execute_reply.started": "2023-12-30T17:14:48.825096Z",
          "shell.execute_reply": "2023-12-30T17:14:48.838784Z"
        },
        "trusted": true,
        "id": "8bezWu06VTGZ"
      },
      "execution_count": null,
      "outputs": []
    },
    {
      "cell_type": "code",
      "source": [],
      "metadata": {
        "id": "0uHsX8WqVTGZ"
      },
      "execution_count": null,
      "outputs": []
    },
    {
      "cell_type": "code",
      "source": [
        "from tensorflow.keras.models import Model\n",
        "from tensorflow.keras.applications import ResNet101\n",
        "from tensorflow.keras.layers import Dense, GlobalAveragePooling2D\n",
        "\n",
        "# Load ResNet-101 model without classification layers and specify input shape\n",
        "base_model_resnet = ResNet101(weights='imagenet', include_top=False, input_shape=(224, 224, 3))\n",
        "\n",
        "# Add your own classification layers\n",
        "x = base_model_resnet.output\n",
        "x = GlobalAveragePooling2D()(x)\n",
        "predictions = Dense(12, activation='softmax')(x)\n",
        "\n",
        "# Create a new model combining the base ResNet-101 and the custom classification layers\n",
        "model_resnet = Model(inputs=base_model_resnet.input, outputs=predictions)\n",
        "\n",
        "# Freeze layers in the base model\n",
        "for layer in base_model_resnet.layers:\n",
        "    layer.trainable = False\n",
        "\n",
        "model_resnet.compile(optimizer='adam', loss='categorical_crossentropy', metrics=['accuracy'])\n",
        "\n",
        "# Train the model\n",
        "history_resnet = model_resnet.fit(train_batches, validation_data=test_batches, epochs=100)# Create ResNet-101 model\n",
        "resnet_model = ResNet101(weights='imagenet', include_top=False)\n",
        "model_resnet = Sequential()\n",
        "model_resnet.add(resnet_model)\n",
        "model_resnet.add(Dense(units=12, activation='softmax', name='predictions'))\n",
        "\n",
        "for layer in model_resnet.layers[0].layers[:-6]:\n",
        "    layer.trainable = False\n",
        "\n",
        "model_resnet.compile(optimizer=SGD(learning_rate=0.0001), loss='categorical_crossentropy', metrics=['accuracy'])"
      ],
      "metadata": {
        "execution": {
          "iopub.status.busy": "2023-12-30T17:14:48.841222Z",
          "iopub.execute_input": "2023-12-30T17:14:48.841833Z",
          "iopub.status.idle": "2023-12-30T18:05:39.679693Z",
          "shell.execute_reply.started": "2023-12-30T17:14:48.841797Z",
          "shell.execute_reply": "2023-12-30T18:05:39.67887Z"
        },
        "trusted": true,
        "id": "Kyr2PmGCVTGZ"
      },
      "execution_count": null,
      "outputs": []
    },
    {
      "cell_type": "code",
      "source": [
        "from tensorflow.keras.models import Model\n",
        "from tensorflow.keras.applications import Xception\n",
        "from tensorflow.keras.layers import Dense, GlobalAveragePooling2D\n",
        "\n",
        "# Load Xception model without classification layers and specify input shape\n",
        "base_model_xception = Xception(weights='imagenet', include_top=False, input_shape=(224, 224, 3))\n",
        "\n",
        "# Add your own classification layers\n",
        "x = base_model_xception.output\n",
        "x = GlobalAveragePooling2D()(x)\n",
        "predictions = Dense(12, activation='softmax')(x)\n",
        "\n",
        "# Create a new model combining the base Xception and the custom classification layers\n",
        "model_xception = Model(inputs=base_model_xception.input, outputs=predictions)\n",
        "\n",
        "# Freeze layers in the base model\n",
        "for layer in base_model_xception.layers:\n",
        "    layer.trainable = False\n",
        "\n",
        "model_xception.compile(optimizer='adam', loss='categorical_crossentropy', metrics=['accuracy'])\n",
        "\n",
        "# Train the model\n",
        "history_xception = model_xception.fit(train_batches, validation_data=test_batches, epochs=100)\n"
      ],
      "metadata": {
        "execution": {
          "iopub.status.busy": "2023-12-30T18:05:39.680826Z",
          "iopub.execute_input": "2023-12-30T18:05:39.681099Z",
          "iopub.status.idle": "2023-12-30T18:55:43.477251Z",
          "shell.execute_reply.started": "2023-12-30T18:05:39.681074Z",
          "shell.execute_reply": "2023-12-30T18:55:43.476388Z"
        },
        "trusted": true,
        "id": "aK2gd6pdVTGa"
      },
      "execution_count": null,
      "outputs": []
    },
    {
      "cell_type": "code",
      "source": [
        "# Plot training and validation accuracy\n",
        "plt.figure(figsize=(12, 4))\n",
        "\n",
        "plt.subplot(1, 2, 1)\n",
        "plt.plot(history_xception.history['accuracy'], label='Training Accuracy')\n",
        "plt.plot(history_xception.history['val_accuracy'], label='Validation Accuracy')\n",
        "plt.title('Training and Validation Accuracy')\n",
        "plt.xlabel('Epoch')\n",
        "plt.ylabel('Accuracy')\n",
        "plt.legend()\n",
        "\n",
        "# Plot training and validation loss\n",
        "plt.subplot(1, 2, 2)\n",
        "plt.plot(history_xception.history['loss'], label='Training Loss')\n",
        "plt.plot(history_xception.history['val_loss'], label='Validation Loss')\n",
        "plt.title('Training and Validation Loss')\n",
        "plt.xlabel('Epoch')\n",
        "plt.ylabel('Loss')\n",
        "plt.legend()\n",
        "\n",
        "plt.tight_layout()\n",
        "plt.show()\n"
      ],
      "metadata": {
        "execution": {
          "iopub.status.busy": "2023-12-30T18:55:43.478548Z",
          "iopub.execute_input": "2023-12-30T18:55:43.478844Z",
          "iopub.status.idle": "2023-12-30T18:55:44.115472Z",
          "shell.execute_reply.started": "2023-12-30T18:55:43.478819Z",
          "shell.execute_reply": "2023-12-30T18:55:44.114539Z"
        },
        "trusted": true,
        "id": "RbdLAlV3VTGa"
      },
      "execution_count": null,
      "outputs": []
    },
    {
      "cell_type": "code",
      "source": [
        "\n",
        "# Evaluate on test set and generate confusion matrix\n",
        "predictions =  model_xception.predict(test_batches)\n",
        "predicted_classes = np.argmax(predictions, axis=1)\n",
        "true_classes = test_batches.classes\n",
        "confusion_mat = confusion_matrix(true_classes, predicted_classes)\n",
        "print(\"Confusion Matrix:\")\n",
        "print(confusion_mat)\n",
        "\n",
        "# Plot confusion matrix\n",
        "sns.heatmap(confusion_mat, annot=True)\n",
        "\n",
        "# Display classification report\n",
        "class_names = list(test_batches.class_indices.keys())\n",
        "report = classification_report(true_classes, predicted_classes, target_names=class_names)\n",
        "print(\"Classification Report:\")\n",
        "print(report)"
      ],
      "metadata": {
        "execution": {
          "iopub.status.busy": "2023-12-30T18:55:44.116919Z",
          "iopub.execute_input": "2023-12-30T18:55:44.117282Z",
          "iopub.status.idle": "2023-12-30T18:55:57.700055Z",
          "shell.execute_reply.started": "2023-12-30T18:55:44.117253Z",
          "shell.execute_reply": "2023-12-30T18:55:57.69918Z"
        },
        "trusted": true,
        "id": "LacwJ8-zVTGa"
      },
      "execution_count": null,
      "outputs": []
    },
    {
      "cell_type": "code",
      "source": [],
      "metadata": {
        "id": "Gyp7dk9rVTGb"
      },
      "execution_count": null,
      "outputs": []
    },
    {
      "cell_type": "code",
      "source": [
        "import numpy as np\n",
        "import pandas as pd\n",
        "import matplotlib.pyplot as plt\n",
        "import seaborn as sns\n",
        "import os\n",
        "import tensorflow as tf\n",
        "from tensorflow.keras.models import Sequential\n",
        "from tensorflow.keras.layers import Dense\n",
        "from tensorflow.keras.optimizers import SGD\n",
        "from tensorflow.keras.preprocessing.image import ImageDataGenerator\n",
        "from sklearn.metrics import confusion_matrix, classification_report\n",
        "\n",
        "DIRECTORY = '/kaggle/input/herbs-plant-dataset/herbs classification'\n",
        "train_path = 'train'\n",
        "test_path = 'test'\n",
        "\n",
        "# Load the training and test datasets using ImageDataGenerator\n",
        "train_batches = ImageDataGenerator(preprocessing_function=tf.keras.applications.resnet.preprocess_input) \\\n",
        "    .flow_from_directory(directory=train_path, target_size=(224, 224), batch_size=10)\n",
        "test_batches = ImageDataGenerator(preprocessing_function=tf.keras.applications.resnet.preprocess_input) \\\n",
        "    .flow_from_directory(directory=test_path, target_size=(224, 224), batch_size=10, shuffle=False)\n",
        "\n",
        "# Load the pre-trained ResNet-101 model\n",
        "resnet_model = tf.keras.applications.ResNet101(weights='imagenet', include_top=False)\n",
        "\n",
        "# Freeze layers in the ResNet-101 model\n",
        "for layer in resnet_model.layers:\n",
        "    layer.trainable = False\n",
        "\n",
        "# Create a new model by adding layers on top of the ResNet-101 base\n",
        "model = Sequential([\n",
        "    resnet_model,\n",
        "    tf.keras.layers.GlobalAveragePooling2D(),\n",
        "    Dense(units=12, activation='softmax', name='predictions')\n",
        "])\n",
        "\n",
        "# Compile the model\n",
        "model.compile(optimizer=SGD(learning_rate=0.0001), loss='categorical_crossentropy', metrics=['accuracy'])\n",
        "\n",
        "# Train the model\n",
        "hist = model.fit(x=train_batches, validation_data=test_batches, epochs=100, verbose=2)\n",
        "\n",
        "# Plot training and validation accuracy\n",
        "plt.plot(hist.history['accuracy'], 'y', label='Training acc')\n",
        "plt.plot(hist.history['val_accuracy'], 'r', label='Validation acc')\n",
        "plt.title('Training and validation accuracy')\n",
        "plt.xlabel('Epochs')\n",
        "plt.ylabel('Accuracy')\n",
        "plt.legend()\n",
        "plt.show()\n",
        "\n",
        "# Plot training and validation loss\n",
        "plt.plot(hist.history['loss'], 'y', label='Training loss')\n",
        "plt.plot(hist.history['val_loss'], 'r', label='Validation loss')\n",
        "plt.title('Training and validation loss')\n",
        "plt.xlabel('Epochs')\n",
        "plt.ylabel('Loss')\n",
        "plt.legend()\n",
        "plt.show()\n",
        "\n",
        "# Evaluate on test set and generate confusion matrix\n",
        "predictions = model.predict(test_batches)\n",
        "predicted_classes = np.argmax(predictions, axis=1)\n",
        "true_classes = test_batches.classes\n",
        "confusion_mat = confusion_matrix(true_classes, predicted_classes)\n",
        "print(\"Confusion Matrix:\")\n",
        "print(confusion_mat)\n",
        "\n",
        "# Plot confusion matrix\n",
        "sns.heatmap(confusion_mat, annot=True)\n",
        "\n",
        "# Display classification report\n",
        "class_names = list(test_batches.class_indices.keys())\n",
        "report = classification_report(true_classes, predicted_classes, target_names=class_names)\n",
        "print(\"Classification Report:\")\n",
        "print(report)\n"
      ],
      "metadata": {
        "execution": {
          "iopub.status.busy": "2023-12-30T18:55:57.70192Z",
          "iopub.execute_input": "2023-12-30T18:55:57.702222Z",
          "iopub.status.idle": "2023-12-30T19:46:49.422182Z",
          "shell.execute_reply.started": "2023-12-30T18:55:57.702168Z",
          "shell.execute_reply": "2023-12-30T19:46:49.421262Z"
        },
        "trusted": true,
        "id": "NhWC_gB0VTGb"
      },
      "execution_count": null,
      "outputs": []
    }
  ]
}